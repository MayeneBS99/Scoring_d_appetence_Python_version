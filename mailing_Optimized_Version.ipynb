{
 "cells": [
  {
   "cell_type": "markdown",
   "metadata": {},
   "source": [
    "# Affinity Scoring Analysis by MAYENE Bienvenue Schékina\n"
   ]
  },
  {
   "cell_type": "markdown",
   "metadata": {},
   "source": [
    "# Objectif de l'étude :\n",
    "\n",
    "Une agence marketing a envoyé un mailing à un représentatif de sa clientèle, soit 39 779 \n",
    "clients afin de proposer un nouveau service. Le but de cette étude est d’analyser le profil \n",
    "des répondants à l’offre marketing et de trouver la formule de score permettant de \n",
    "« noter » l’ensemble des clients de l’enseigne et de cibler au mieux les individus ayant la \n",
    "plus forte probabilité de répondre positivement à l’offre commerciale."
   ]
  },
  {
   "cell_type": "markdown",
   "metadata": {},
   "source": [
    "# Plan d'analyse : \n",
    "\n",
    "1-) Inspection et preprocessing \n",
    "\n",
    "2-) Statistical Data Analysis\n",
    "\n",
    "3-) Machine Learning : \n",
    "* Model fitting\n",
    "* Model evaluation and eventualy model tuning"
   ]
  },
  {
   "cell_type": "markdown",
   "metadata": {},
   "source": [
    "# Partie 1 : Dataset Inspection and visualization\n"
   ]
  },
  {
   "cell_type": "code",
   "execution_count": 2,
   "metadata": {},
   "outputs": [],
   "source": [
    "# Chargement des librairies \n",
    "\n",
    "import pandas as pd\n",
    "import scipy.stats as sp # pour l'analyse univariée\n",
    "import statsmodels.api as sm\n",
    "import matplotlib.pyplot as plt   # Pour la visualisation\n",
    "import seaborn as sns\n",
    "from sklearn.model_selection import train_test_split\n",
    "import numpy as np"
   ]
  },
  {
   "cell_type": "code",
   "execution_count": 62,
   "metadata": {},
   "outputs": [],
   "source": [
    "from sklearn.linear_model import LogisticRegression\n",
    "from sklearn.metrics import accuracy_score, confusion_matrix, precision_score, recall_score, roc_auc_score, roc_curve\n"
   ]
  },
  {
   "cell_type": "code",
   "execution_count": null,
   "metadata": {},
   "outputs": [],
   "source": [
    "#libraries for preprocessing\n",
    "from sklearn.impute import SimpleImputer\n",
    "from sklearn.preprocessing import OneHotEncoder, MinMaxScaler"
   ]
  },
  {
   "cell_type": "code",
   "execution_count": 4,
   "metadata": {
    "scrolled": true
   },
   "outputs": [
    {
     "data": {
      "text/html": [
       "<div>\n",
       "<style scoped>\n",
       "    .dataframe tbody tr th:only-of-type {\n",
       "        vertical-align: middle;\n",
       "    }\n",
       "\n",
       "    .dataframe tbody tr th {\n",
       "        vertical-align: top;\n",
       "    }\n",
       "\n",
       "    .dataframe thead th {\n",
       "        text-align: right;\n",
       "    }\n",
       "</style>\n",
       "<table border=\"1\" class=\"dataframe\">\n",
       "  <thead>\n",
       "    <tr style=\"text-align: right;\">\n",
       "      <th></th>\n",
       "      <th>RETOUR</th>\n",
       "      <th>AGE</th>\n",
       "      <th>INCOME</th>\n",
       "      <th>SEX</th>\n",
       "      <th>MARRIED</th>\n",
       "      <th>FICO</th>\n",
       "      <th>OWNHOME</th>\n",
       "      <th>LOC</th>\n",
       "      <th>BUY6</th>\n",
       "      <th>BUY12</th>\n",
       "      <th>BUY18</th>\n",
       "      <th>VALUE24</th>\n",
       "      <th>COA6</th>\n",
       "      <th>fin</th>\n",
       "    </tr>\n",
       "  </thead>\n",
       "  <tbody>\n",
       "    <tr>\n",
       "      <th>0</th>\n",
       "      <td>NON</td>\n",
       "      <td>45</td>\n",
       "      <td>52</td>\n",
       "      <td>F</td>\n",
       "      <td>1</td>\n",
       "      <td>748</td>\n",
       "      <td>0</td>\n",
       "      <td>A</td>\n",
       "      <td>0</td>\n",
       "      <td>0</td>\n",
       "      <td>0</td>\n",
       "      <td>209</td>\n",
       "      <td>0</td>\n",
       "      <td>0</td>\n",
       "    </tr>\n",
       "    <tr>\n",
       "      <th>1</th>\n",
       "      <td>NON</td>\n",
       "      <td>56</td>\n",
       "      <td>79</td>\n",
       "      <td>NaN</td>\n",
       "      <td>1</td>\n",
       "      <td>732</td>\n",
       "      <td>0</td>\n",
       "      <td>A</td>\n",
       "      <td>0</td>\n",
       "      <td>0</td>\n",
       "      <td>0</td>\n",
       "      <td>109</td>\n",
       "      <td>0</td>\n",
       "      <td>0</td>\n",
       "    </tr>\n",
       "    <tr>\n",
       "      <th>2</th>\n",
       "      <td>OUI</td>\n",
       "      <td>49</td>\n",
       "      <td>54</td>\n",
       "      <td>F</td>\n",
       "      <td>0</td>\n",
       "      <td>727</td>\n",
       "      <td>0</td>\n",
       "      <td>A</td>\n",
       "      <td>0</td>\n",
       "      <td>0</td>\n",
       "      <td>1</td>\n",
       "      <td>447</td>\n",
       "      <td>0</td>\n",
       "      <td>0</td>\n",
       "    </tr>\n",
       "    <tr>\n",
       "      <th>3</th>\n",
       "      <td>OUI</td>\n",
       "      <td>44</td>\n",
       "      <td>40</td>\n",
       "      <td>NaN</td>\n",
       "      <td>1</td>\n",
       "      <td>708</td>\n",
       "      <td>1</td>\n",
       "      <td>A</td>\n",
       "      <td>0</td>\n",
       "      <td>0</td>\n",
       "      <td>0</td>\n",
       "      <td>151</td>\n",
       "      <td>0</td>\n",
       "      <td>0</td>\n",
       "    </tr>\n",
       "    <tr>\n",
       "      <th>4</th>\n",
       "      <td>NON</td>\n",
       "      <td>59</td>\n",
       "      <td>41</td>\n",
       "      <td>F</td>\n",
       "      <td>0</td>\n",
       "      <td>646</td>\n",
       "      <td>1</td>\n",
       "      <td>A</td>\n",
       "      <td>0</td>\n",
       "      <td>0</td>\n",
       "      <td>0</td>\n",
       "      <td>233</td>\n",
       "      <td>0</td>\n",
       "      <td>0</td>\n",
       "    </tr>\n",
       "  </tbody>\n",
       "</table>\n",
       "</div>"
      ],
      "text/plain": [
       "  RETOUR  AGE  INCOME  SEX  MARRIED  FICO  OWNHOME LOC  BUY6  BUY12  BUY18  \\\n",
       "0    NON   45      52    F        1   748        0   A     0      0      0   \n",
       "1    NON   56      79  NaN        1   732        0   A     0      0      0   \n",
       "2    OUI   49      54    F        0   727        0   A     0      0      1   \n",
       "3    OUI   44      40  NaN        1   708        1   A     0      0      0   \n",
       "4    NON   59      41    F        0   646        1   A     0      0      0   \n",
       "\n",
       "   VALUE24  COA6  fin  \n",
       "0      209     0    0  \n",
       "1      109     0    0  \n",
       "2      447     0    0  \n",
       "3      151     0    0  \n",
       "4      233     0    0  "
      ]
     },
     "execution_count": 4,
     "metadata": {},
     "output_type": "execute_result"
    }
   ],
   "source": [
    "# Importation de la base de données \n",
    "\n",
    "mailing = pd.read_table(\"mailing_fin.txt\")\n",
    "\n",
    "# Apperçue du jeux de données\n",
    "mailing.head()"
   ]
  },
  {
   "cell_type": "markdown",
   "metadata": {},
   "source": [
    "## Dictionnaire des variables :\n",
    "\n",
    "**BUY6 :** Nombre de commandes passé dans les 6 derniers mois\n",
    "\n",
    "**BUY12 :** Nombre de commandes passées dans les 12 derniers mois\n",
    "\n",
    "**BUY18 :** Nombre de commandes passées dans les 18 derniers mois\n",
    "\n",
    "**COA6 :** Changement d’adresse OUI/NON\n",
    "\n",
    "**FICO :** Revenu financiers\n",
    "\n",
    "**INCOME :** Revenu\n",
    "\n",
    "**LOC :** Localité A ;B ;C ;…;H\n",
    "\n",
    "**MARRIED :** Marié/Pas marié OUI/NON\n",
    "\n",
    "**OWNHOME :** Propriétaire ou non OUI/NON\n",
    "\n",
    "**RETOUR :** A répondu au mail du 16 avril OUI/NON\n",
    "\n",
    "**SEX :** Civilité du client M/F\n",
    "\n",
    "**VALUE24 :** Montant des commandes sur 24 mois"
   ]
  },
  {
   "cell_type": "markdown",
   "metadata": {},
   "source": [
    "### Visualization quantitatives variables"
   ]
  },
  {
   "cell_type": "code",
   "execution_count": null,
   "metadata": {},
   "outputs": [],
   "source": [
    "# v"
   ]
  },
  {
   "cell_type": "code",
   "execution_count": null,
   "metadata": {},
   "outputs": [],
   "source": []
  },
  {
   "cell_type": "markdown",
   "metadata": {},
   "source": [
    "### Visualization qualitatives variables"
   ]
  },
  {
   "cell_type": "code",
   "execution_count": 30,
   "metadata": {},
   "outputs": [
    {
     "data": {
      "text/plain": [
       "array([0, 1], dtype=int64)"
      ]
     },
     "execution_count": 30,
     "metadata": {},
     "output_type": "execute_result"
    }
   ],
   "source": [
    "target.unique()"
   ]
  },
  {
   "cell_type": "markdown",
   "metadata": {},
   "source": [
    "# Part 2 : Preprocessing"
   ]
  },
  {
   "cell_type": "code",
   "execution_count": 5,
   "metadata": {},
   "outputs": [
    {
     "name": "stderr",
     "output_type": "stream",
     "text": [
      "C:\\Users\\mayen\\AppData\\Local\\Temp\\ipykernel_31932\\2880316358.py:14: FutureWarning: Downcasting behavior in `replace` is deprecated and will be removed in a future version. To retain the old behavior, explicitly call `result.infer_objects(copy=False)`. To opt-in to the future behavior, set `pd.set_option('future.no_silent_downcasting', True)`\n",
      "  mailing[\"RETOUR\"] = mailing[\"RETOUR\"].replace(rename_dict_retour)\n",
      "C:\\Users\\mayen\\AppData\\Local\\Temp\\ipykernel_31932\\2880316358.py:15: FutureWarning: Downcasting behavior in `replace` is deprecated and will be removed in a future version. To retain the old behavior, explicitly call `result.infer_objects(copy=False)`. To opt-in to the future behavior, set `pd.set_option('future.no_silent_downcasting', True)`\n",
      "  mailing[\"SEX\"] = mailing[\"SEX\"].replace(rename_dict_sex)\n",
      "C:\\Users\\mayen\\AppData\\Local\\Temp\\ipykernel_31932\\2880316358.py:16: FutureWarning: Downcasting behavior in `replace` is deprecated and will be removed in a future version. To retain the old behavior, explicitly call `result.infer_objects(copy=False)`. To opt-in to the future behavior, set `pd.set_option('future.no_silent_downcasting', True)`\n",
      "  mailing[\"LOC\"] = mailing[\"LOC\"].replace(rename_dict_loc)\n"
     ]
    }
   ],
   "source": [
    "# renaming catagories of categoricals variables\n",
    "\n",
    "rename_dict_retour = {'NON' : 0, 'OUI' : 1}\n",
    "rename_dict_sex = {'M' : 0, 'F' : 1}\n",
    "rename_dict_loc = {'E': 0,\n",
    "'F': 1,\n",
    " 'B': 2,\n",
    " 'H': 3,\n",
    " 'G': 4,\n",
    " 'A': 5,\n",
    " 'D': 6,\n",
    " 'C': 7}\n",
    "\n",
    "mailing[\"RETOUR\"] = mailing[\"RETOUR\"].replace(rename_dict_retour)\n",
    "mailing[\"SEX\"] = mailing[\"SEX\"].replace(rename_dict_sex)\n",
    "mailing[\"LOC\"] = mailing[\"LOC\"].replace(rename_dict_loc)"
   ]
  },
  {
   "cell_type": "code",
   "execution_count": 32,
   "metadata": {},
   "outputs": [
    {
     "name": "stdout",
     "output_type": "stream",
     "text": [
      "train_features : (27845, 12) \n",
      "train_target: (27845,) \n",
      "test_features : (11934, 12) \n",
      "test_target : (11934,)\n"
     ]
    }
   ],
   "source": [
    "# divide our daatset in a train and a test set\n",
    "features = mailing.drop(columns = [\"RETOUR\", \"fin\"])\n",
    "target = mailing[\"RETOUR\"]\n",
    "\n",
    "train_features, test_features,train_target ,test_target = train_test_split(features, target , test_size = 0.3, random_state = 42)\n",
    "\n",
    "print('train_features :', train_features.shape, '\\ntrain_target:', train_target.shape,\n",
    "     '\\ntest_features :', test_features.shape,\n",
    "     \"\\ntest_target :\", test_target.shape)"
   ]
  },
  {
   "cell_type": "code",
   "execution_count": 8,
   "metadata": {},
   "outputs": [
    {
     "data": {
      "text/plain": [
       "AGE         0\n",
       "INCOME      0\n",
       "SEX        42\n",
       "MARRIED     0\n",
       "FICO        0\n",
       "OWNHOME     0\n",
       "LOC         0\n",
       "BUY6        0\n",
       "BUY12       0\n",
       "BUY18       0\n",
       "VALUE24     0\n",
       "COA6        0\n",
       "dtype: int64"
      ]
     },
     "execution_count": 8,
     "metadata": {},
     "output_type": "execute_result"
    }
   ],
   "source": [
    "# number of missing values\n",
    "\n",
    "pd.isnull(train_features).sum()"
   ]
  },
  {
   "cell_type": "code",
   "execution_count": 16,
   "metadata": {},
   "outputs": [
    {
     "data": {
      "text/plain": [
       "['AGE',\n",
       " 'INCOME',\n",
       " 'SEX',\n",
       " 'MARRIED',\n",
       " 'FICO',\n",
       " 'OWNHOME',\n",
       " 'LOC',\n",
       " 'BUY6',\n",
       " 'BUY12',\n",
       " 'BUY18',\n",
       " 'VALUE24',\n",
       " 'COA6']"
      ]
     },
     "execution_count": 16,
     "metadata": {},
     "output_type": "execute_result"
    }
   ],
   "source": [
    "train_features.columns.to_list()"
   ]
  },
  {
   "cell_type": "code",
   "execution_count": 9,
   "metadata": {},
   "outputs": [],
   "source": [
    "# Divide variables from our datatset by their categories\n",
    "\n",
    "cat_variables = ['SEX',\n",
    " 'MARRIED',\n",
    " 'OWNHOME',\n",
    " 'LOC', 'COA6']\n",
    "num_variables = ['AGE','INCOME', 'FICO', 'BUY6',\n",
    " 'BUY12',\n",
    " 'BUY18',\n",
    " 'VALUE24']"
   ]
  },
  {
   "cell_type": "markdown",
   "metadata": {},
   "source": [
    "### Categoricals variables"
   ]
  },
  {
   "cell_type": "code",
   "execution_count": 10,
   "metadata": {},
   "outputs": [],
   "source": [
    "# replace de nan values\n",
    "prep_na = SimpleImputer(missing_values = np.nan, strategy = 'most_frequent')\n",
    "\n",
    "cat_train = prep_na.fit_transform(train_features[cat_variables])\n",
    "cat_test = prep_na.transform(test_features[cat_variables])"
   ]
  },
  {
   "cell_type": "code",
   "execution_count": 47,
   "metadata": {},
   "outputs": [],
   "source": [
    "# do a onehot encoder\n",
    "\n",
    "cat_train_2 = pd.DataFrame(cat_train, columns = cat_variables)\n",
    "cat_test_2 = pd.DataFrame(cat_test, columns = cat_variables)\n",
    "\n",
    "for var in cat_variables:\n",
    "    cat_train_2[var] = cat_train_2[var].astype('int')\n",
    "    cat_test_2[var] = cat_test_2[var].astype('int')\n",
    "\n",
    "\n",
    "prep_onehot = OneHotEncoder(drop = 'first')\n",
    "\n",
    "cat_train_3 = prep_onehot.fit_transform(cat_train_2)\n",
    "cat_test_3 = prep_onehot.transform(cat_test_2)"
   ]
  },
  {
   "cell_type": "code",
   "execution_count": 48,
   "metadata": {},
   "outputs": [
    {
     "data": {
      "text/html": [
       "<div>\n",
       "<style scoped>\n",
       "    .dataframe tbody tr th:only-of-type {\n",
       "        vertical-align: middle;\n",
       "    }\n",
       "\n",
       "    .dataframe tbody tr th {\n",
       "        vertical-align: top;\n",
       "    }\n",
       "\n",
       "    .dataframe thead th {\n",
       "        text-align: right;\n",
       "    }\n",
       "</style>\n",
       "<table border=\"1\" class=\"dataframe\">\n",
       "  <thead>\n",
       "    <tr style=\"text-align: right;\">\n",
       "      <th></th>\n",
       "      <th>SEX_1</th>\n",
       "      <th>MARRIED_1</th>\n",
       "      <th>OWNHOME_1</th>\n",
       "      <th>LOC_1</th>\n",
       "      <th>LOC_2</th>\n",
       "      <th>LOC_3</th>\n",
       "      <th>LOC_4</th>\n",
       "      <th>LOC_5</th>\n",
       "      <th>LOC_6</th>\n",
       "      <th>LOC_7</th>\n",
       "      <th>COA6_1</th>\n",
       "    </tr>\n",
       "  </thead>\n",
       "  <tbody>\n",
       "    <tr>\n",
       "      <th>0</th>\n",
       "      <td>0</td>\n",
       "      <td>0</td>\n",
       "      <td>1</td>\n",
       "      <td>1</td>\n",
       "      <td>0</td>\n",
       "      <td>0</td>\n",
       "      <td>0</td>\n",
       "      <td>0</td>\n",
       "      <td>0</td>\n",
       "      <td>0</td>\n",
       "      <td>0</td>\n",
       "    </tr>\n",
       "    <tr>\n",
       "      <th>1</th>\n",
       "      <td>0</td>\n",
       "      <td>1</td>\n",
       "      <td>0</td>\n",
       "      <td>0</td>\n",
       "      <td>0</td>\n",
       "      <td>0</td>\n",
       "      <td>0</td>\n",
       "      <td>0</td>\n",
       "      <td>0</td>\n",
       "      <td>0</td>\n",
       "      <td>0</td>\n",
       "    </tr>\n",
       "    <tr>\n",
       "      <th>2</th>\n",
       "      <td>0</td>\n",
       "      <td>1</td>\n",
       "      <td>1</td>\n",
       "      <td>1</td>\n",
       "      <td>0</td>\n",
       "      <td>0</td>\n",
       "      <td>0</td>\n",
       "      <td>0</td>\n",
       "      <td>0</td>\n",
       "      <td>0</td>\n",
       "      <td>0</td>\n",
       "    </tr>\n",
       "    <tr>\n",
       "      <th>3</th>\n",
       "      <td>1</td>\n",
       "      <td>1</td>\n",
       "      <td>1</td>\n",
       "      <td>1</td>\n",
       "      <td>0</td>\n",
       "      <td>0</td>\n",
       "      <td>0</td>\n",
       "      <td>0</td>\n",
       "      <td>0</td>\n",
       "      <td>0</td>\n",
       "      <td>0</td>\n",
       "    </tr>\n",
       "    <tr>\n",
       "      <th>4</th>\n",
       "      <td>1</td>\n",
       "      <td>1</td>\n",
       "      <td>0</td>\n",
       "      <td>1</td>\n",
       "      <td>0</td>\n",
       "      <td>0</td>\n",
       "      <td>0</td>\n",
       "      <td>0</td>\n",
       "      <td>0</td>\n",
       "      <td>0</td>\n",
       "      <td>0</td>\n",
       "    </tr>\n",
       "  </tbody>\n",
       "</table>\n",
       "</div>"
      ],
      "text/plain": [
       "   SEX_1  MARRIED_1  OWNHOME_1  LOC_1  LOC_2  LOC_3  LOC_4  LOC_5  LOC_6  \\\n",
       "0      0          0          1      1      0      0      0      0      0   \n",
       "1      0          1          0      0      0      0      0      0      0   \n",
       "2      0          1          1      1      0      0      0      0      0   \n",
       "3      1          1          1      1      0      0      0      0      0   \n",
       "4      1          1          0      1      0      0      0      0      0   \n",
       "\n",
       "   LOC_7  COA6_1  \n",
       "0      0       0  \n",
       "1      0       0  \n",
       "2      0       0  \n",
       "3      0       0  \n",
       "4      0       0  "
      ]
     },
     "execution_count": 48,
     "metadata": {},
     "output_type": "execute_result"
    }
   ],
   "source": [
    "# Retransforme our data into dataframe type\n",
    "\n",
    "cat_train_3 = pd.DataFrame(cat_train_3.toarray(), columns = prep_onehot.get_feature_names_out())\n",
    "cat_test_3 = pd.DataFrame(cat_test_3.toarray(), columns = prep_onehot.get_feature_names_out())\n",
    "\n",
    "for var in prep_onehot.get_feature_names_out():\n",
    "    cat_train_3[var] = cat_train_3[var].astype('int')\n",
    "    cat_test_3[var] = cat_test_3[var].astype('int')\n",
    "\n",
    "\n",
    "cat_train_3.head()"
   ]
  },
  {
   "cell_type": "code",
   "execution_count": 14,
   "metadata": {},
   "outputs": [
    {
     "name": "stdout",
     "output_type": "stream",
     "text": [
      "<class 'pandas.core.frame.DataFrame'>\n",
      "RangeIndex: 27845 entries, 0 to 27844\n",
      "Data columns (total 16 columns):\n",
      " #   Column     Non-Null Count  Dtype\n",
      "---  ------     --------------  -----\n",
      " 0   SEX_0      27845 non-null  int32\n",
      " 1   SEX_1      27845 non-null  int32\n",
      " 2   MARRIED_0  27845 non-null  int32\n",
      " 3   MARRIED_1  27845 non-null  int32\n",
      " 4   OWNHOME_0  27845 non-null  int32\n",
      " 5   OWNHOME_1  27845 non-null  int32\n",
      " 6   LOC_0      27845 non-null  int32\n",
      " 7   LOC_1      27845 non-null  int32\n",
      " 8   LOC_2      27845 non-null  int32\n",
      " 9   LOC_3      27845 non-null  int32\n",
      " 10  LOC_4      27845 non-null  int32\n",
      " 11  LOC_5      27845 non-null  int32\n",
      " 12  LOC_6      27845 non-null  int32\n",
      " 13  LOC_7      27845 non-null  int32\n",
      " 14  COA6_0     27845 non-null  int32\n",
      " 15  COA6_1     27845 non-null  int32\n",
      "dtypes: int32(16)\n",
      "memory usage: 1.7 MB\n"
     ]
    }
   ],
   "source": [
    "# change column type???\n",
    "\n",
    "cat_train_3.info()"
   ]
  },
  {
   "cell_type": "markdown",
   "metadata": {},
   "source": [
    "### Numericals variables"
   ]
  },
  {
   "cell_type": "code",
   "execution_count": 15,
   "metadata": {},
   "outputs": [],
   "source": [
    "# normalisation des variables numériques\n",
    "\n",
    "prep_norm = MinMaxScaler()\n",
    "\n",
    "num_train = prep_norm.fit_transform(train_features[num_variables])\n",
    "num_test = prep_norm.transform(test_features[num_variables])"
   ]
  },
  {
   "cell_type": "code",
   "execution_count": 40,
   "metadata": {},
   "outputs": [
    {
     "data": {
      "text/plain": [
       "array([[0.33333333, 0.44554455, 0.57959184, ..., 0.        , 0.25      ,\n",
       "        0.22807018],\n",
       "       [0.87719298, 0.36633663, 0.57959184, ..., 0.        , 0.        ,\n",
       "        0.16207185],\n",
       "       [0.70175439, 0.28712871, 0.48163265, ..., 0.        , 0.        ,\n",
       "        0.04511278],\n",
       "       ...,\n",
       "       [0.49122807, 0.20792079, 0.53469388, ..., 0.33333333, 0.25      ,\n",
       "        0.44193818],\n",
       "       [0.35087719, 0.07920792, 0.26938776, ..., 0.        , 0.        ,\n",
       "        0.13617377],\n",
       "       [0.36842105, 0.27722772, 0.4122449 , ..., 0.        , 0.        ,\n",
       "        0.09774436]])"
      ]
     },
     "execution_count": 40,
     "metadata": {},
     "output_type": "execute_result"
    }
   ],
   "source": [
    "num_train"
   ]
  },
  {
   "cell_type": "code",
   "execution_count": 16,
   "metadata": {},
   "outputs": [],
   "source": [
    "# Have numerical dataset in a dataframe types\n",
    "\n",
    "num_train_df = pd.DataFrame(num_train, columns = num_variables)\n",
    "num_test_df = pd.DataFrame(num_test, columns = num_variables)"
   ]
  },
  {
   "cell_type": "code",
   "execution_count": 49,
   "metadata": {},
   "outputs": [
    {
     "data": {
      "text/html": [
       "<div>\n",
       "<style scoped>\n",
       "    .dataframe tbody tr th:only-of-type {\n",
       "        vertical-align: middle;\n",
       "    }\n",
       "\n",
       "    .dataframe tbody tr th {\n",
       "        vertical-align: top;\n",
       "    }\n",
       "\n",
       "    .dataframe thead th {\n",
       "        text-align: right;\n",
       "    }\n",
       "</style>\n",
       "<table border=\"1\" class=\"dataframe\">\n",
       "  <thead>\n",
       "    <tr style=\"text-align: right;\">\n",
       "      <th></th>\n",
       "      <th>AGE</th>\n",
       "      <th>INCOME</th>\n",
       "      <th>FICO</th>\n",
       "      <th>BUY6</th>\n",
       "      <th>BUY12</th>\n",
       "      <th>BUY18</th>\n",
       "      <th>VALUE24</th>\n",
       "      <th>SEX_1</th>\n",
       "      <th>MARRIED_1</th>\n",
       "      <th>OWNHOME_1</th>\n",
       "      <th>LOC_1</th>\n",
       "      <th>LOC_2</th>\n",
       "      <th>LOC_3</th>\n",
       "      <th>LOC_4</th>\n",
       "      <th>LOC_5</th>\n",
       "      <th>LOC_6</th>\n",
       "      <th>LOC_7</th>\n",
       "      <th>COA6_1</th>\n",
       "    </tr>\n",
       "  </thead>\n",
       "  <tbody>\n",
       "    <tr>\n",
       "      <th>0</th>\n",
       "      <td>0.333333</td>\n",
       "      <td>0.445545</td>\n",
       "      <td>0.579592</td>\n",
       "      <td>0.0</td>\n",
       "      <td>0.0</td>\n",
       "      <td>0.25</td>\n",
       "      <td>0.228070</td>\n",
       "      <td>0</td>\n",
       "      <td>0</td>\n",
       "      <td>1</td>\n",
       "      <td>1</td>\n",
       "      <td>0</td>\n",
       "      <td>0</td>\n",
       "      <td>0</td>\n",
       "      <td>0</td>\n",
       "      <td>0</td>\n",
       "      <td>0</td>\n",
       "      <td>0</td>\n",
       "    </tr>\n",
       "    <tr>\n",
       "      <th>1</th>\n",
       "      <td>0.877193</td>\n",
       "      <td>0.366337</td>\n",
       "      <td>0.579592</td>\n",
       "      <td>0.0</td>\n",
       "      <td>0.0</td>\n",
       "      <td>0.00</td>\n",
       "      <td>0.162072</td>\n",
       "      <td>0</td>\n",
       "      <td>1</td>\n",
       "      <td>0</td>\n",
       "      <td>0</td>\n",
       "      <td>0</td>\n",
       "      <td>0</td>\n",
       "      <td>0</td>\n",
       "      <td>0</td>\n",
       "      <td>0</td>\n",
       "      <td>0</td>\n",
       "      <td>0</td>\n",
       "    </tr>\n",
       "    <tr>\n",
       "      <th>2</th>\n",
       "      <td>0.701754</td>\n",
       "      <td>0.287129</td>\n",
       "      <td>0.481633</td>\n",
       "      <td>0.0</td>\n",
       "      <td>0.0</td>\n",
       "      <td>0.00</td>\n",
       "      <td>0.045113</td>\n",
       "      <td>0</td>\n",
       "      <td>1</td>\n",
       "      <td>1</td>\n",
       "      <td>1</td>\n",
       "      <td>0</td>\n",
       "      <td>0</td>\n",
       "      <td>0</td>\n",
       "      <td>0</td>\n",
       "      <td>0</td>\n",
       "      <td>0</td>\n",
       "      <td>0</td>\n",
       "    </tr>\n",
       "    <tr>\n",
       "      <th>3</th>\n",
       "      <td>0.473684</td>\n",
       "      <td>0.435644</td>\n",
       "      <td>0.551020</td>\n",
       "      <td>0.0</td>\n",
       "      <td>0.0</td>\n",
       "      <td>0.00</td>\n",
       "      <td>0.020886</td>\n",
       "      <td>1</td>\n",
       "      <td>1</td>\n",
       "      <td>1</td>\n",
       "      <td>1</td>\n",
       "      <td>0</td>\n",
       "      <td>0</td>\n",
       "      <td>0</td>\n",
       "      <td>0</td>\n",
       "      <td>0</td>\n",
       "      <td>0</td>\n",
       "      <td>0</td>\n",
       "    </tr>\n",
       "    <tr>\n",
       "      <th>4</th>\n",
       "      <td>0.596491</td>\n",
       "      <td>0.138614</td>\n",
       "      <td>0.657143</td>\n",
       "      <td>0.0</td>\n",
       "      <td>0.0</td>\n",
       "      <td>0.00</td>\n",
       "      <td>0.083542</td>\n",
       "      <td>1</td>\n",
       "      <td>1</td>\n",
       "      <td>0</td>\n",
       "      <td>1</td>\n",
       "      <td>0</td>\n",
       "      <td>0</td>\n",
       "      <td>0</td>\n",
       "      <td>0</td>\n",
       "      <td>0</td>\n",
       "      <td>0</td>\n",
       "      <td>0</td>\n",
       "    </tr>\n",
       "  </tbody>\n",
       "</table>\n",
       "</div>"
      ],
      "text/plain": [
       "        AGE    INCOME      FICO  BUY6  BUY12  BUY18   VALUE24  SEX_1  \\\n",
       "0  0.333333  0.445545  0.579592   0.0    0.0   0.25  0.228070      0   \n",
       "1  0.877193  0.366337  0.579592   0.0    0.0   0.00  0.162072      0   \n",
       "2  0.701754  0.287129  0.481633   0.0    0.0   0.00  0.045113      0   \n",
       "3  0.473684  0.435644  0.551020   0.0    0.0   0.00  0.020886      1   \n",
       "4  0.596491  0.138614  0.657143   0.0    0.0   0.00  0.083542      1   \n",
       "\n",
       "   MARRIED_1  OWNHOME_1  LOC_1  LOC_2  LOC_3  LOC_4  LOC_5  LOC_6  LOC_7  \\\n",
       "0          0          1      1      0      0      0      0      0      0   \n",
       "1          1          0      0      0      0      0      0      0      0   \n",
       "2          1          1      1      0      0      0      0      0      0   \n",
       "3          1          1      1      0      0      0      0      0      0   \n",
       "4          1          0      1      0      0      0      0      0      0   \n",
       "\n",
       "   COA6_1  \n",
       "0       0  \n",
       "1       0  \n",
       "2       0  \n",
       "3       0  \n",
       "4       0  "
      ]
     },
     "execution_count": 49,
     "metadata": {},
     "output_type": "execute_result"
    }
   ],
   "source": [
    "# Dataset Final reconstitution\n",
    "data_train_final = pd.concat([num_train_df, cat_train_3], axis = 1)\n",
    "data_test_final = pd.concat([num_test_df, cat_test_3], axis = 1)\n",
    "\n",
    "data_train_final.head()"
   ]
  },
  {
   "cell_type": "code",
   "execution_count": 19,
   "metadata": {},
   "outputs": [],
   "source": [
    "new_cat_variables = ['SEX_0','SEX_1','MARRIED_0', 'MARRIED_1',\n",
    "'OWNHOME_0','OWNHOME_1','LOC_0','LOC_1','LOC_2','LOC_3',\n",
    " 'LOC_4','LOC_5','LOC_6','LOC_7','COA6_0','COA6_1']\n",
    "\n",
    "new_quant_variables = ['AGE',\n",
    " 'INCOME',\n",
    " 'FICO',\n",
    " 'BUY6',\n",
    " 'BUY12',\n",
    " 'BUY18',\n",
    " 'VALUE24']"
   ]
  },
  {
   "cell_type": "markdown",
   "metadata": {},
   "source": [
    "# Part 3 : Modelisation\n",
    "\n",
    "We will start our modélisation by creating a first model with all our features. we will evaluate it and ..."
   ]
  },
  {
   "cell_type": "markdown",
   "metadata": {},
   "source": [
    "### Model 1"
   ]
  },
  {
   "cell_type": "code",
   "execution_count": 50,
   "metadata": {},
   "outputs": [],
   "source": [
    "# Ajout d'une constante pour l'ordonnée à l'origine (intercept)\n",
    "data_train_final_n = sm.add_constant(data_train_final)\n",
    "data_train_final_n.index = train_features.index"
   ]
  },
  {
   "cell_type": "code",
   "execution_count": 51,
   "metadata": {},
   "outputs": [
    {
     "name": "stdout",
     "output_type": "stream",
     "text": [
      "Optimization terminated successfully.\n",
      "         Current function value: 0.379132\n",
      "         Iterations 6\n",
      "                           Logit Regression Results                           \n",
      "==============================================================================\n",
      "Dep. Variable:                 RETOUR   No. Observations:                27845\n",
      "Model:                          Logit   Df Residuals:                    27826\n",
      "Method:                           MLE   Df Model:                           18\n",
      "Date:                Fri, 20 Sep 2024   Pseudo R-squ.:                 0.05394\n",
      "Time:                        16:23:01   Log-Likelihood:                -10557.\n",
      "converged:                       True   LL-Null:                       -11159.\n",
      "Covariance Type:            nonrobust   LLR p-value:                1.665e-244\n",
      "==============================================================================\n",
      "                 coef    std err          z      P>|z|      [0.025      0.975]\n",
      "------------------------------------------------------------------------------\n",
      "const         -0.7673      0.111     -6.926      0.000      -0.984      -0.550\n",
      "AGE           -2.3918      0.116    -20.667      0.000      -2.619      -2.165\n",
      "INCOME         0.3998      0.116      3.455      0.001       0.173       0.627\n",
      "FICO          -1.2890      0.150     -8.586      0.000      -1.583      -0.995\n",
      "BUY6          -0.4808      0.149     -3.227      0.001      -0.773      -0.189\n",
      "BUY12         -0.8464      0.213     -3.981      0.000      -1.263      -0.430\n",
      "BUY18          2.4292      0.196     12.369      0.000       2.044       2.814\n",
      "VALUE24        0.2572      0.186      1.385      0.166      -0.107       0.621\n",
      "SEX_1          0.1240      0.037      3.395      0.001       0.052       0.196\n",
      "MARRIED_1      0.5278      0.041     12.894      0.000       0.448       0.608\n",
      "OWNHOME_1     -0.4953      0.042    -11.748      0.000      -0.578      -0.413\n",
      "LOC_1         -0.0398      0.057     -0.702      0.482      -0.151       0.071\n",
      "LOC_2          0.1121      0.057      1.963      0.050       0.000       0.224\n",
      "LOC_3         -0.0212      0.073     -0.290      0.772      -0.164       0.122\n",
      "LOC_4         -0.0320      0.073     -0.435      0.663      -0.176       0.112\n",
      "LOC_5          0.1290      0.079      1.631      0.103      -0.026       0.284\n",
      "LOC_6          0.4868      0.075      6.456      0.000       0.339       0.635\n",
      "LOC_7          0.6253      0.074      8.440      0.000       0.480       0.770\n",
      "COA6_1         0.1507      0.095      1.584      0.113      -0.036       0.337\n",
      "==============================================================================\n"
     ]
    }
   ],
   "source": [
    "# Ajuster un modèle de régression logistique\n",
    "\n",
    "logit_model = sm.Logit(train_target, data_train_final_n)\n",
    "result = logit_model.fit(maxiter=100)\n",
    "\n",
    "print(result.summary())\n"
   ]
  },
  {
   "cell_type": "markdown",
   "metadata": {},
   "source": [
    "**Evaluation de nos modèles**\n",
    "\n",
    ">- Test du ratio de vraisemblance : verifier la significativité globale du modèle\n",
    "\n",
    "Les hypothèses du modèles sont les suivantes : \n",
    "\n",
    "H0 : Tous les coefficients associées au modèle sont nulle VS H1 : Il existe au moins un de ces coefficient qui n'est pas nulle\n",
    "\n",
    "Si p-value < seuil (0.05) alors rejet de l'hypothèse nulle ce qui traduira la significativité globale du modèle.\n",
    "\n",
    ">- significativité des variables qui sont dans notre modèle"
   ]
  },
  {
   "cell_type": "code",
   "execution_count": 52,
   "metadata": {},
   "outputs": [
    {
     "data": {
      "text/html": [
       "<div>\n",
       "<style scoped>\n",
       "    .dataframe tbody tr th:only-of-type {\n",
       "        vertical-align: middle;\n",
       "    }\n",
       "\n",
       "    .dataframe tbody tr th {\n",
       "        vertical-align: top;\n",
       "    }\n",
       "\n",
       "    .dataframe thead th {\n",
       "        text-align: right;\n",
       "    }\n",
       "</style>\n",
       "<table border=\"1\" class=\"dataframe\">\n",
       "  <thead>\n",
       "    <tr style=\"text-align: right;\">\n",
       "      <th></th>\n",
       "      <th>const</th>\n",
       "      <th>AGE</th>\n",
       "      <th>INCOME</th>\n",
       "      <th>FICO</th>\n",
       "      <th>BUY6</th>\n",
       "      <th>BUY12</th>\n",
       "      <th>BUY18</th>\n",
       "      <th>VALUE24</th>\n",
       "      <th>SEX_1</th>\n",
       "      <th>MARRIED_1</th>\n",
       "      <th>OWNHOME_1</th>\n",
       "      <th>LOC_1</th>\n",
       "      <th>LOC_2</th>\n",
       "      <th>LOC_3</th>\n",
       "      <th>LOC_4</th>\n",
       "      <th>LOC_5</th>\n",
       "      <th>LOC_6</th>\n",
       "      <th>LOC_7</th>\n",
       "      <th>COA6_1</th>\n",
       "    </tr>\n",
       "  </thead>\n",
       "  <tbody>\n",
       "    <tr>\n",
       "      <th>27111</th>\n",
       "      <td>1.0</td>\n",
       "      <td>0.333333</td>\n",
       "      <td>0.445545</td>\n",
       "      <td>0.579592</td>\n",
       "      <td>0.0</td>\n",
       "      <td>0.0</td>\n",
       "      <td>0.25</td>\n",
       "      <td>0.228070</td>\n",
       "      <td>0</td>\n",
       "      <td>0</td>\n",
       "      <td>1</td>\n",
       "      <td>1</td>\n",
       "      <td>0</td>\n",
       "      <td>0</td>\n",
       "      <td>0</td>\n",
       "      <td>0</td>\n",
       "      <td>0</td>\n",
       "      <td>0</td>\n",
       "      <td>0</td>\n",
       "    </tr>\n",
       "    <tr>\n",
       "      <th>21268</th>\n",
       "      <td>1.0</td>\n",
       "      <td>0.877193</td>\n",
       "      <td>0.366337</td>\n",
       "      <td>0.579592</td>\n",
       "      <td>0.0</td>\n",
       "      <td>0.0</td>\n",
       "      <td>0.00</td>\n",
       "      <td>0.162072</td>\n",
       "      <td>0</td>\n",
       "      <td>1</td>\n",
       "      <td>0</td>\n",
       "      <td>0</td>\n",
       "      <td>0</td>\n",
       "      <td>0</td>\n",
       "      <td>0</td>\n",
       "      <td>0</td>\n",
       "      <td>0</td>\n",
       "      <td>0</td>\n",
       "      <td>0</td>\n",
       "    </tr>\n",
       "    <tr>\n",
       "      <th>28073</th>\n",
       "      <td>1.0</td>\n",
       "      <td>0.701754</td>\n",
       "      <td>0.287129</td>\n",
       "      <td>0.481633</td>\n",
       "      <td>0.0</td>\n",
       "      <td>0.0</td>\n",
       "      <td>0.00</td>\n",
       "      <td>0.045113</td>\n",
       "      <td>0</td>\n",
       "      <td>1</td>\n",
       "      <td>1</td>\n",
       "      <td>1</td>\n",
       "      <td>0</td>\n",
       "      <td>0</td>\n",
       "      <td>0</td>\n",
       "      <td>0</td>\n",
       "      <td>0</td>\n",
       "      <td>0</td>\n",
       "      <td>0</td>\n",
       "    </tr>\n",
       "    <tr>\n",
       "      <th>29269</th>\n",
       "      <td>1.0</td>\n",
       "      <td>0.473684</td>\n",
       "      <td>0.435644</td>\n",
       "      <td>0.551020</td>\n",
       "      <td>0.0</td>\n",
       "      <td>0.0</td>\n",
       "      <td>0.00</td>\n",
       "      <td>0.020886</td>\n",
       "      <td>1</td>\n",
       "      <td>1</td>\n",
       "      <td>1</td>\n",
       "      <td>1</td>\n",
       "      <td>0</td>\n",
       "      <td>0</td>\n",
       "      <td>0</td>\n",
       "      <td>0</td>\n",
       "      <td>0</td>\n",
       "      <td>0</td>\n",
       "      <td>0</td>\n",
       "    </tr>\n",
       "    <tr>\n",
       "      <th>26334</th>\n",
       "      <td>1.0</td>\n",
       "      <td>0.596491</td>\n",
       "      <td>0.138614</td>\n",
       "      <td>0.657143</td>\n",
       "      <td>0.0</td>\n",
       "      <td>0.0</td>\n",
       "      <td>0.00</td>\n",
       "      <td>0.083542</td>\n",
       "      <td>1</td>\n",
       "      <td>1</td>\n",
       "      <td>0</td>\n",
       "      <td>1</td>\n",
       "      <td>0</td>\n",
       "      <td>0</td>\n",
       "      <td>0</td>\n",
       "      <td>0</td>\n",
       "      <td>0</td>\n",
       "      <td>0</td>\n",
       "      <td>0</td>\n",
       "    </tr>\n",
       "  </tbody>\n",
       "</table>\n",
       "</div>"
      ],
      "text/plain": [
       "       const       AGE    INCOME      FICO  BUY6  BUY12  BUY18   VALUE24  \\\n",
       "27111    1.0  0.333333  0.445545  0.579592   0.0    0.0   0.25  0.228070   \n",
       "21268    1.0  0.877193  0.366337  0.579592   0.0    0.0   0.00  0.162072   \n",
       "28073    1.0  0.701754  0.287129  0.481633   0.0    0.0   0.00  0.045113   \n",
       "29269    1.0  0.473684  0.435644  0.551020   0.0    0.0   0.00  0.020886   \n",
       "26334    1.0  0.596491  0.138614  0.657143   0.0    0.0   0.00  0.083542   \n",
       "\n",
       "       SEX_1  MARRIED_1  OWNHOME_1  LOC_1  LOC_2  LOC_3  LOC_4  LOC_5  LOC_6  \\\n",
       "27111      0          0          1      1      0      0      0      0      0   \n",
       "21268      0          1          0      0      0      0      0      0      0   \n",
       "28073      0          1          1      1      0      0      0      0      0   \n",
       "29269      1          1          1      1      0      0      0      0      0   \n",
       "26334      1          1          0      1      0      0      0      0      0   \n",
       "\n",
       "       LOC_7  COA6_1  \n",
       "27111      0       0  \n",
       "21268      0       0  \n",
       "28073      0       0  \n",
       "29269      0       0  \n",
       "26334      0       0  "
      ]
     },
     "execution_count": 52,
     "metadata": {},
     "output_type": "execute_result"
    }
   ],
   "source": [
    "data_train_final_n.head()"
   ]
  },
  {
   "cell_type": "code",
   "execution_count": 55,
   "metadata": {},
   "outputs": [
    {
     "name": "stdout",
     "output_type": "stream",
     "text": [
      "Optimization terminated successfully.\n",
      "         Current function value: 0.400749\n",
      "         Iterations 6\n",
      "                           Logit Regression Results                           \n",
      "==============================================================================\n",
      "Dep. Variable:                 RETOUR   No. Observations:                27845\n",
      "Model:                          Logit   Df Residuals:                    27844\n",
      "Method:                           MLE   Df Model:                            0\n",
      "Date:                Fri, 20 Sep 2024   Pseudo R-squ.:               6.902e-11\n",
      "Time:                        16:36:17   Log-Likelihood:                -11159.\n",
      "converged:                       True   LL-Null:                       -11159.\n",
      "Covariance Type:            nonrobust   LLR p-value:                       nan\n",
      "==============================================================================\n",
      "                 coef    std err          z      P>|z|      [0.025      0.975]\n",
      "------------------------------------------------------------------------------\n",
      "const         -1.8346      0.017   -105.487      0.000      -1.869      -1.801\n",
      "==============================================================================\n"
     ]
    }
   ],
   "source": [
    "# Model without any variables\n",
    "\n",
    "logit_model_vide = sm.Logit(train_target, data_train_final_n['const'])\n",
    "result_model_vide = logit_model_vide.fit()\n",
    "\n",
    "print(result_model_vide.summary())"
   ]
  },
  {
   "cell_type": "code",
   "execution_count": 56,
   "metadata": {},
   "outputs": [
    {
     "name": "stdout",
     "output_type": "stream",
     "text": [
      "Valeur LR complet: -10556.93482313828\n",
      "Valeur LR Modèle vide: -11158.86561310511\n",
      "Statistique du ratio de vraisemblance: 1203.8615799336621\n",
      "p-valeur du test: 1.6650691747328552e-244\n"
     ]
    }
   ],
   "source": [
    "# Log-vraisemblance des deux modèles\n",
    "lr_model1 = result.llf\n",
    "lr_model_vide = result_model_vide.llf\n",
    "\n",
    "# Calcul du test du ratio de vraisemblance\n",
    "LR_stat = 2 * (lr_model1 - lr_model_vide)\n",
    "\n",
    "# Degré de liberté (différence du nombre de paramètres entre les modèles)\n",
    "df = len(result.params) - len(result_model_vide.params)\n",
    "\n",
    "# Calcul de la p-valeur (à partir de la statistique du Chi2)\n",
    "from scipy import stats\n",
    "p_value = stats.chi2.sf(LR_stat, df)\n",
    "\n",
    "print(f\"Valeur LR complet: {lr_model1}\")\n",
    "print(f\"Valeur LR Modèle vide: {lr_model_vide}\")\n",
    "print(f\"Statistique du ratio de vraisemblance: {LR_stat}\")\n",
    "print(f\"p-valeur du test: {p_value}\")\n"
   ]
  },
  {
   "cell_type": "markdown",
   "metadata": {},
   "source": [
    "De ce resultat, nous voyons que la p-value resultant du test de significativité globale est inferieur au seuil. Par conséquent nous rejettons donc l'hypothèse nulle portant sur la nullité des coefficients du modèle. Notre Modèle est donc globalement significatif"
   ]
  },
  {
   "cell_type": "markdown",
   "metadata": {},
   "source": [
    "### Model 2"
   ]
  },
  {
   "cell_type": "code",
   "execution_count": 69,
   "metadata": {},
   "outputs": [
    {
     "name": "stdout",
     "output_type": "stream",
     "text": [
      "Optimization terminated successfully.\n",
      "         Current function value: 0.379291\n",
      "         Iterations 6\n",
      "                           Logit Regression Results                           \n",
      "==============================================================================\n",
      "Dep. Variable:                 RETOUR   No. Observations:                27845\n",
      "Model:                          Logit   Df Residuals:                    27832\n",
      "Method:                           MLE   Df Model:                           12\n",
      "Date:                Fri, 20 Sep 2024   Pseudo R-squ.:                 0.05355\n",
      "Time:                        17:39:34   Log-Likelihood:                -10561.\n",
      "converged:                       True   LL-Null:                       -11159.\n",
      "Covariance Type:            nonrobust   LLR p-value:                2.023e-248\n",
      "==============================================================================\n",
      "                 coef    std err          z      P>|z|      [0.025      0.975]\n",
      "------------------------------------------------------------------------------\n",
      "const         -0.7249      0.103     -7.021      0.000      -0.927      -0.523\n",
      "AGE           -2.4130      0.115    -20.936      0.000      -2.639      -2.187\n",
      "INCOME         0.4058      0.116      3.513      0.000       0.179       0.632\n",
      "FICO          -1.2941      0.150     -8.622      0.000      -1.588      -1.000\n",
      "BUY6          -0.4749      0.149     -3.189      0.001      -0.767      -0.183\n",
      "BUY12         -0.8499      0.213     -3.999      0.000      -1.266      -0.433\n",
      "BUY18          2.5787      0.163     15.812      0.000       2.259       2.898\n",
      "SEX_1          0.1219      0.036      3.341      0.001       0.050       0.193\n",
      "MARRIED_1      0.5294      0.041     12.940      0.000       0.449       0.610\n",
      "OWNHOME_1     -0.5067      0.042    -12.168      0.000      -0.588      -0.425\n",
      "LOC_2          0.1096      0.047      2.350      0.019       0.018       0.201\n",
      "LOC_6          0.4853      0.068      7.137      0.000       0.352       0.619\n",
      "LOC_7          0.6320      0.066      9.540      0.000       0.502       0.762\n",
      "==============================================================================\n"
     ]
    }
   ],
   "source": [
    "logit_model2 = sm.Logit(train_target, data_train_final_n[['const','AGE','INCOME','FICO','BUY6','BUY12','BUY18','SEX_1',\n",
    " 'MARRIED_1',\n",
    " 'OWNHOME_1',\n",
    " 'LOC_2',\n",
    " 'LOC_6',\n",
    " 'LOC_7']\n",
    " ])\n",
    "result2 = logit_model2.fit(maxiter=100)\n",
    "\n",
    "print(result2.summary())"
   ]
  },
  {
   "cell_type": "code",
   "execution_count": 70,
   "metadata": {},
   "outputs": [
    {
     "name": "stdout",
     "output_type": "stream",
     "text": [
      "Valeur LR complet: -10556.93482313828\n",
      "Valeur LR Modèle vide: -10561.344077748687\n",
      "Statistique du ratio de vraisemblance: 8.81850922081503\n",
      "p-valeur du test: 0.18404519778207878\n"
     ]
    }
   ],
   "source": [
    "# Comparaison Model1 et Model 2\n",
    "\n",
    "lr_model1 = result.llf\n",
    "lr_model2 = result2.llf\n",
    "\n",
    "# Calcul du test du ratio de vraisemblance\n",
    "LR_stat = 2 * (lr_model1 - lr_model2)\n",
    "\n",
    "# Degré de liberté (différence du nombre de paramètres entre les modèles)\n",
    "df = len(result.params) - len(result2.params)\n",
    "\n",
    "p_value = stats.chi2.sf(LR_stat, df)\n",
    "\n",
    "print(f\"Valeur LR complet: {lr_model1}\")\n",
    "print(f\"Valeur LR Modèle vide: {lr_model2}\")\n",
    "print(f\"Statistique du ratio de vraisemblance: {LR_stat}\")\n",
    "print(f\"p-valeur du test: {p_value}\")"
   ]
  },
  {
   "cell_type": "markdown",
   "metadata": {},
   "source": [
    "P-value> seuil , Non rejet de l'hypothèse nulle, et donc le meilleur model est le model 2"
   ]
  },
  {
   "cell_type": "code",
   "execution_count": null,
   "metadata": {},
   "outputs": [],
   "source": []
  },
  {
   "cell_type": "code",
   "execution_count": null,
   "metadata": {},
   "outputs": [],
   "source": []
  },
  {
   "cell_type": "code",
   "execution_count": 71,
   "metadata": {},
   "outputs": [],
   "source": [
    "data_test_final_n = sm.add_constant(data_test_final)\n",
    "data_test_final_n.index = test_features.index\n",
    "\n",
    "y_pred_prob = result2.predict(data_test_final_n[['const','AGE','INCOME','FICO','BUY6','BUY12','BUY18','SEX_1',\n",
    " 'MARRIED_1',\n",
    " 'OWNHOME_1',\n",
    " 'LOC_2',\n",
    " 'LOC_6',\n",
    " 'LOC_7']\n",
    " ])\n",
    "\n",
    "# Convertir les probabilités en classes (0 ou 1) avec un seuil de 0.5\n",
    "y_pred_class = (y_pred_prob >= 0.5).astype(int)"
   ]
  },
  {
   "cell_type": "code",
   "execution_count": 72,
   "metadata": {},
   "outputs": [
    {
     "name": "stdout",
     "output_type": "stream",
     "text": [
      "AUC: 0.65\n"
     ]
    },
    {
     "data": {
      "image/png": "[encoded data removed]",
      "text/plain": [
       "<Figure size 640x480 with 1 Axes>"
      ]
     },
     "metadata": {},
     "output_type": "display_data"
    }
   ],
   "source": [
    "auc = roc_auc_score(test_target, y_pred_prob)\n",
    "print(f'AUC: {auc:.2f}')\n",
    "\n",
    "# Courbe ROC\n",
    "fpr, tpr, thresholds = roc_curve(test_target, y_pred_prob)\n",
    "\n",
    "# Tracé de la courbe ROC\n",
    "plt.plot(fpr, tpr, label=f'ROC curve (area = {auc:.2f})')\n",
    "plt.plot([0, 1], [0, 1], color='gray', linestyle='--')\n",
    "plt.xlabel('False Positive Rate')\n",
    "plt.ylabel('True Positive Rate')\n",
    "plt.title('ROC Curve')\n",
    "plt.legend(loc=\"lower right\")\n",
    "plt.show()"
   ]
  },
  {
   "cell_type": "markdown",
   "metadata": {},
   "source": [
    "## Optimisation du modèle"
   ]
  },
  {
   "cell_type": "markdown",
   "metadata": {},
   "source": [
    "## Score computing"
   ]
  },
  {
   "cell_type": "code",
   "execution_count": 65,
   "metadata": {},
   "outputs": [
    {
     "name": "stdout",
     "output_type": "stream",
     "text": [
      "[-2.00267203 -2.89655428 -2.94745983 -2.31425793 -2.3521502  -1.59370193\n",
      " -1.66598241 -1.69836338 -1.81393502 -1.42801099]\n"
     ]
    }
   ],
   "source": [
    "coefficients = result.params\n",
    "\n",
    "score_lineaire = np.dot(data_train_final_n, coefficients)\n",
    "\n",
    "# Affichage des premiers scores linéaires\n",
    "print(score_lineaire[:10])"
   ]
  },
  {
   "cell_type": "code",
   "execution_count": 66,
   "metadata": {},
   "outputs": [
    {
     "data": {
      "text/plain": [
       "const       -0.767312\n",
       "AGE         -2.391817\n",
       "INCOME       0.399756\n",
       "FICO        -1.289030\n",
       "BUY6        -0.480811\n",
       "BUY12       -0.846354\n",
       "BUY18        2.429176\n",
       "VALUE24      0.257229\n",
       "SEX_1        0.124005\n",
       "MARRIED_1    0.527819\n",
       "OWNHOME_1   -0.495257\n",
       "LOC_1       -0.039789\n",
       "LOC_2        0.112070\n",
       "LOC_3       -0.021181\n",
       "LOC_4       -0.031963\n",
       "LOC_5        0.128994\n",
       "LOC_6        0.486778\n",
       "LOC_7        0.625253\n",
       "COA6_1       0.150686\n",
       "dtype: float64"
      ]
     },
     "execution_count": 66,
     "metadata": {},
     "output_type": "execute_result"
    }
   ],
   "source": [
    "coefficients"
   ]
  },
  {
   "cell_type": "code",
   "execution_count": null,
   "metadata": {},
   "outputs": [],
   "source": []
  }
 ],
 "metadata": {
  "kernelspec": {
   "display_name": "Python 3 (ipykernel)",
   "language": "python",
   "name": "python3"
  },
  "language_info": {
   "codemirror_mode": {
    "name": "ipython",
    "version": 3
   },
   "file_extension": ".py",
   "mimetype": "text/x-python",
   "name": "python",
   "nbconvert_exporter": "python",
   "pygments_lexer": "ipython3",
   "version": "3.11.5"
  }
 },
 "nbformat": 4,
 "nbformat_minor": 4
}
